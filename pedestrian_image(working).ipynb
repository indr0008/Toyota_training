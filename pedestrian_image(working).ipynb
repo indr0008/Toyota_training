{
 "cells": [
  {
   "cell_type": "code",
   "execution_count": 11,
   "id": "ea7abd15",
   "metadata": {},
   "outputs": [],
   "source": [
    "import cv2\n",
    "import imutils\n",
    "\n",
    "# Initializing the HOG person detector\n",
    "hog = cv2.HOGDescriptor()\n",
    "hog.setSVMDetector(cv2.HOGDescriptor_getDefaultPeopleDetector())\n",
    "\n",
    "# Load the image\n",
    "image = cv2.imread('pedestrian.jpg')\n",
    "\n",
    "# Resize the image for faster processing (optional)\n",
    "image = imutils.resize(image, width=min(400, image.shape[1]))\n",
    "\n",
    "# Detect all the regions that have pedestrians\n",
    "(regions, _) = hog.detectMultiScale(image, winStride=(1, 1), padding=(4, 4), scale=1.01)\n",
    "\n",
    "# Draw rectangles around the detected pedestrians\n",
    "for (x, y, w, h) in regions:\n",
    "    cv2.rectangle(image, (x, y), (x + w, y + h), (0, 0, 255), 2)\n",
    "\n",
    "# Display the image with pedestrian detections\n",
    "cv2.imshow(\"Pedestrian Detection\", image)\n",
    "cv2.waitKey(0)\n",
    "cv2.destroyAllWindows()\n"
   ]
  },
  {
   "cell_type": "code",
   "execution_count": null,
   "id": "75ebad5e",
   "metadata": {},
   "outputs": [],
   "source": []
  }
 ],
 "metadata": {
  "kernelspec": {
   "display_name": "Python 3 (ipykernel)",
   "language": "python",
   "name": "python3"
  },
  "language_info": {
   "codemirror_mode": {
    "name": "ipython",
    "version": 3
   },
   "file_extension": ".py",
   "mimetype": "text/x-python",
   "name": "python",
   "nbconvert_exporter": "python",
   "pygments_lexer": "ipython3",
   "version": "3.11.4"
  }
 },
 "nbformat": 4,
 "nbformat_minor": 5
}
